version https://git-lfs.github.com/spec/v1
oid sha256:a2601b70a87d3844e3b1ceb448a5f9d8acea2a505c085634c218fa83e1c1572a
size 47702
